{
 "cells": [
  {
   "cell_type": "code",
   "execution_count": 2,
   "id": "b309269c",
   "metadata": {},
   "outputs": [],
   "source": [
    "import os\n",
    "import json"
   ]
  },
  {
   "cell_type": "code",
   "execution_count": 2,
   "id": "7dd7946d",
   "metadata": {},
   "outputs": [],
   "source": [
    "dataset_path = \"/home/heinrich/projects/asr_pytorch/AirbusData/TXTdata\"\n",
    "\n",
    "dataset_path.replace('home', 'hallo')\n",
    "file_list = []\n",
    "for path, subdirs, files in os.walk(dataset_path):\n",
    "    for name in files:\n",
    "        file_list.append(os.path.join(path, name))\n",
    "\n",
    "legit_files = []\n",
    "for i, file_path in enumerate(file_list):\n",
    "    \n",
    "    with open(file_path, \"r\") as txt_file:\n",
    "        file_str = txt_file.read()\n",
    "        txt_file.close()\n",
    "        \n",
    "        if all(j.isalpha() or j.isspace() for j in file_str):\n",
    "            legit_files.append(file_path)\n",
    "            \n",
    "\n",
    "with open(\"legit_files.txt\", \"w\") as file:\n",
    "    json.dump(legit_files, file)\n",
    "    file.close()"
   ]
  },
  {
   "cell_type": "code",
   "execution_count": 3,
   "id": "838593e1",
   "metadata": {},
   "outputs": [],
   "source": [
    "with open(\"legit_files.txt\", \"r\") as file:\n",
    "    legit_files_loaded = json.load(file)\n",
    "    file.close()"
   ]
  },
  {
   "cell_type": "code",
   "execution_count": 28,
   "id": "9f996466",
   "metadata": {},
   "outputs": [
    {
     "data": {
      "text/plain": [
       "8470"
      ]
     },
     "execution_count": 28,
     "metadata": {},
     "output_type": "execute_result"
    }
   ],
   "source": [
    "len(legit_files_loaded)"
   ]
  },
  {
   "cell_type": "code",
   "execution_count": 14,
   "id": "d43c8bef",
   "metadata": {},
   "outputs": [],
   "source": [
    "import torchaudio\n",
    "\n",
    "def get_airbus_item(index=1, file_list=legit_files):\n",
    "    file_path_txt = file_list[index]\n",
    "    file_path_wav = file_path_txt[0:-4] + \".wav\"\n",
    "    file_path_wav = file_path_wav.replace(\"TXTdata\", \"WAVdata\", 1)\n",
    "    \n",
    "    waveform, sample_frequency = torchaudio.load(file_path_wav)\n",
    "    \n",
    "    new_sample_frequency = 16000\n",
    "    resample = torchaudio.transforms.Resample(sample_frequency, new_sample_frequency)\n",
    "    waveform = resample(waveform)\n",
    "    \n",
    "    with open(file_path_txt) as file:\n",
    "            utterance = file.read()\n",
    "    file.close()\n",
    "    return waveform, new_sample_frequency, utterance"
   ]
  },
  {
   "cell_type": "code",
   "execution_count": 15,
   "id": "c068e1bf",
   "metadata": {},
   "outputs": [],
   "source": [
    "import json\n",
    "import torch.nn as nn\n",
    "\n",
    "class AirbusDataset(nn.Module):\n",
    "    \n",
    "    def __init__(self):\n",
    "        \n",
    "        with open(\"legit_files.txt\", \"r\") as file:\n",
    "            self.legit_files = json.load(file)\n",
    "            file.close()\n",
    "    \n",
    "    def __getitem__(self, index=1):\n",
    "        return get_airbus_item(index, file_list=self.legit_files)\n",
    "    \n",
    "    def __len__(self):\n",
    "        return len(self.legit_files)\n",
    "        "
   ]
  },
  {
   "cell_type": "code",
   "execution_count": 16,
   "id": "de4f1915",
   "metadata": {},
   "outputs": [
    {
     "data": {
      "text/plain": [
       "16000"
      ]
     },
     "execution_count": 16,
     "metadata": {},
     "output_type": "execute_result"
    }
   ],
   "source": [
    "from torch.utils.data import DataLoader\n",
    "\n",
    "\n",
    "airbus_dataset = AirbusDataset()\n",
    "\n",
    "train_loader = DataLoader("
   ]
  },
  {
   "cell_type": "code",
   "execution_count": null,
   "id": "f62d4f7b",
   "metadata": {},
   "outputs": [],
   "source": []
  }
 ],
 "metadata": {
  "kernelspec": {
   "display_name": "Python 3 (ipykernel)",
   "language": "python",
   "name": "python3"
  },
  "language_info": {
   "codemirror_mode": {
    "name": "ipython",
    "version": 3
   },
   "file_extension": ".py",
   "mimetype": "text/x-python",
   "name": "python",
   "nbconvert_exporter": "python",
   "pygments_lexer": "ipython3",
   "version": "3.8.10"
  }
 },
 "nbformat": 4,
 "nbformat_minor": 5
}
